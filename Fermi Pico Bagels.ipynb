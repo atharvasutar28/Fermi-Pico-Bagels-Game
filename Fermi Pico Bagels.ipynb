{
 "cells": [
  {
   "cell_type": "code",
   "execution_count": 1,
   "id": "e205ae10",
   "metadata": {},
   "outputs": [
    {
     "name": "stdout",
     "output_type": "stream",
     "text": [
      "Guess Number :- 123\n",
      "Fermi!Fermi!Fermi!\n"
     ]
    }
   ],
   "source": [
    "original_number = '123'\n",
    "\n",
    "i = ' '\n",
    "while i != 'a':\n",
    "    \n",
    "    guess_number = input(\"Guess Number :- \")\n",
    "    \n",
    "    if len(original_number) != len(guess_number):\n",
    "        print(\"Enter a\", len(original_number) ,\"Digit Number.\")\n",
    "        continue\n",
    "        \n",
    "    if len(set(guess_number)) != len(original_number):\n",
    "        print(\"Duplicate Number!\")\n",
    "        continue\n",
    "    \n",
    "    if guess_number == original_number:\n",
    "        print(\"Fermi!\"*len(original_number))\n",
    "        break\n",
    "\n",
    "    output = []\n",
    "\n",
    "    for i in range(len(original_number)):\n",
    "        if original_number[i] == guess_number[i]:\n",
    "            output.append(\"Fermi \")\n",
    "        elif guess_number[i] in original_number:\n",
    "            output.append(\"Pico \")\n",
    "        \n",
    "    output_string = ''\n",
    "    for i in output:\n",
    "        output_string += i\n",
    "        \n",
    "    if len(output) == 0:\n",
    "        print(\"Bagel!\")\n",
    "    else:\n",
    "        print(output_string)"
   ]
  },
  {
   "cell_type": "code",
   "execution_count": null,
   "id": "4b45fd14",
   "metadata": {},
   "outputs": [],
   "source": []
  }
 ],
 "metadata": {
  "kernelspec": {
   "display_name": "Python 3 (ipykernel)",
   "language": "python",
   "name": "python3"
  },
  "language_info": {
   "codemirror_mode": {
    "name": "ipython",
    "version": 3
   },
   "file_extension": ".py",
   "mimetype": "text/x-python",
   "name": "python",
   "nbconvert_exporter": "python",
   "pygments_lexer": "ipython3",
   "version": "3.11.4"
  }
 },
 "nbformat": 4,
 "nbformat_minor": 5
}
